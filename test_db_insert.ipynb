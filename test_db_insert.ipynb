{
 "cells": [
  {
   "cell_type": "markdown",
   "id": "543f55a6",
   "metadata": {},
   "source": [
    "This script makes a **demo curriculum dataset**, saves it to Excel, and then loads it into a database (SQLite). The goal is to test how fast we can insert large amounts of data into related tables.\n",
    "\n",
    "**Steps in the script:**\n",
    "\n",
    "1. **Create Demo Data**\n",
    "\n",
    "    - Makes rows with three columns: `strand`, `substrand`, and `activity`.\n",
    "    - Strands are named `\"Strand A\"`, `\"Strand B\"`, etc.\n",
    "    - Substrands are named `\"Sub Strand A\"`, `\"Sub Strand B\"`, etc.\n",
    "    - Activities are named `\"Activity #1\"`, `\"Activity #2\"`, etc.\n",
    "    - The number of activities per substrand is set by `ACTIVITIES_PER_SUBSTRAND`.\n",
    "    - Saves everything into an Excel file called **`DEMO_CURRICULUM.xlsx`**.\n",
    "\n",
    "2. **Set Up Database**\n",
    "\n",
    "    - Uses SQLite and creates 3 tables:\n",
    "\n",
    "        - **Strand** (`id`, `name`)\n",
    "        - **Substrand** (`id`, `strand_id`, `name`)\n",
    "        - **Activity** (`id`, `substrand_id`, `name`)\n",
    "\n",
    "    - Each table is linked:\n",
    "\n",
    "        - A substrand belongs to a strand.\n",
    "        - An activity belongs to a substrand.\n",
    "\n",
    "3. **Insert Data into Database**\n",
    "\n",
    "    - Finds all unique strands and inserts them into the `Strand` table.\n",
    "\n",
    "        - Keeps a dictionary `strand_id_map` to remember the IDs.\n",
    "\n",
    "    - Finds all unique strand–substrand pairs and inserts them into the `Substrand` table.\n",
    "\n",
    "        - Keeps a dictionary `substrand_id_map` for their IDs.\n",
    "\n",
    "    - Inserts all activities, using the `substrand_id_map` to connect them to the right substrand.\n",
    "    - Uses `executemany()` for batch inserts, which is much faster than inserting one row at a time.\n",
    "    - Measures how long each step takes and prints the times.\n",
    "\n",
    "4. **Result**\n",
    "\n",
    "    - At the end, you get a SQLite database file called **`curriculum.db`** with all the data linked correctly.\n",
    "    - The script also shows how many rows were inserted and how long it took.\n"
   ]
  },
  {
   "cell_type": "code",
   "execution_count": 14,
   "id": "c3170b6b",
   "metadata": {},
   "outputs": [],
   "source": [
    "import sqlite3\n",
    "import string\n",
    "import time\n",
    "from pathlib import Path\n",
    "\n",
    "import pandas as pd"
   ]
  },
  {
   "cell_type": "markdown",
   "id": "df252e09",
   "metadata": {},
   "source": [
    "# 1. CREATE DEMO EXCEL FILE\n"
   ]
  },
  {
   "cell_type": "code",
   "execution_count": 15,
   "id": "18f91f9f",
   "metadata": {},
   "outputs": [
    {
     "name": "stdout",
     "output_type": "stream",
     "text": [
      "📂 Creating demo Excel file...\n",
      "✅ Excel created with 66924 rows in 4.80 seconds.\n",
      "   File: /home/kraigochieng/projects/kicd_extraction/demos/DEMO_CURRICULUM.xlsx\n"
     ]
    }
   ],
   "source": [
    "ACTIVITIES_PER_SUBSTRAND = 100\n",
    "\n",
    "print(\"📂 Creating demo Excel file...\")\n",
    "\n",
    "start_time = time.perf_counter()\n",
    "\n",
    "strands = list(string.ascii_uppercase)\n",
    "sub_strands = list(string.ascii_uppercase)\n",
    "activities = [str(a) for a in range(1, ACTIVITIES_PER_SUBSTRAND)]\n",
    "\n",
    "all_rows = []\n",
    "for strand in strands:\n",
    "    for sub_strand in sub_strands:\n",
    "        for activity in activities:\n",
    "            all_rows.append(\n",
    "                {\n",
    "                    \"strand\": f\"Strand {strand}\",\n",
    "                    \"substrand\": f\"Sub Strand {sub_strand}\",\n",
    "                    \"activity\": f\"Activity #{activity}\",\n",
    "                }\n",
    "            )\n",
    "\n",
    "df = pd.DataFrame(all_rows)\n",
    "\n",
    "output_dir = Path(\"demos\")\n",
    "output_dir.mkdir(exist_ok=True)\n",
    "output_path = output_dir / \"DEMO_CURRICULUM.xlsx\"\n",
    "df.to_excel(output_path, index=False, engine=\"openpyxl\")\n",
    "\n",
    "elapsed = time.perf_counter() - start_time\n",
    "print(f\"✅ Excel created with {len(df)} rows in {elapsed:.2f} seconds.\")\n",
    "print(f\"   File: {output_path.resolve()}\")"
   ]
  },
  {
   "cell_type": "markdown",
   "id": "fd90811a",
   "metadata": {},
   "source": [
    "# 2. DB INSERTION"
   ]
  },
  {
   "cell_type": "markdown",
   "id": "bad8d127",
   "metadata": {},
   "source": [
    "## Create tables"
   ]
  },
  {
   "cell_type": "code",
   "execution_count": 16,
   "id": "0da1047f",
   "metadata": {},
   "outputs": [
    {
     "name": "stdout",
     "output_type": "stream",
     "text": [
      "\n",
      "📂 Importing into database...\n"
     ]
    },
    {
     "data": {
      "text/plain": [
       "<sqlite3.Cursor at 0x75c382f286c0>"
      ]
     },
     "execution_count": 16,
     "metadata": {},
     "output_type": "execute_result"
    }
   ],
   "source": [
    "print(\"\\n📂 Importing into database...\")\n",
    "\n",
    "conn = sqlite3.connect(\"curriculum.db\")\n",
    "cur = conn.cursor()\n",
    "\n",
    "cur.executescript(\"\"\"\n",
    "DROP TABLE IF EXISTS Strand;\n",
    "DROP TABLE IF EXISTS Substrand;\n",
    "DROP TABLE IF EXISTS Activity;\n",
    "\n",
    "CREATE TABLE Strand (\n",
    "    id INTEGER PRIMARY KEY AUTOINCREMENT,\n",
    "    name TEXT UNIQUE\n",
    ");\n",
    "\n",
    "CREATE TABLE Substrand (\n",
    "    id INTEGER PRIMARY KEY AUTOINCREMENT,\n",
    "    strand_id INTEGER,\n",
    "    name TEXT,\n",
    "    UNIQUE(strand_id, name),\n",
    "    FOREIGN KEY (strand_id) REFERENCES Strand(id)\n",
    ");\n",
    "\n",
    "CREATE TABLE Activity (\n",
    "    id INTEGER PRIMARY KEY AUTOINCREMENT,\n",
    "    substrand_id INTEGER,\n",
    "    name TEXT,\n",
    "    UNIQUE(substrand_id, name),\n",
    "    FOREIGN KEY (substrand_id) REFERENCES Substrand(id)\n",
    ");\n",
    "\"\"\")\n",
    "\n"
   ]
  },
  {
   "cell_type": "markdown",
   "id": "e7f73126",
   "metadata": {},
   "source": [
    "## Insert Strands"
   ]
  },
  {
   "cell_type": "code",
   "execution_count": 17,
   "id": "0e28943e",
   "metadata": {},
   "outputs": [
    {
     "data": {
      "text/plain": [
       "['Strand A',\n",
       " 'Strand B',\n",
       " 'Strand C',\n",
       " 'Strand D',\n",
       " 'Strand E',\n",
       " 'Strand F',\n",
       " 'Strand G',\n",
       " 'Strand H',\n",
       " 'Strand I',\n",
       " 'Strand J',\n",
       " 'Strand K',\n",
       " 'Strand L',\n",
       " 'Strand M',\n",
       " 'Strand N',\n",
       " 'Strand O',\n",
       " 'Strand P',\n",
       " 'Strand Q',\n",
       " 'Strand R',\n",
       " 'Strand S',\n",
       " 'Strand T',\n",
       " 'Strand U',\n",
       " 'Strand V',\n",
       " 'Strand W',\n",
       " 'Strand X',\n",
       " 'Strand Y',\n",
       " 'Strand Z']"
      ]
     },
     "execution_count": 17,
     "metadata": {},
     "output_type": "execute_result"
    }
   ],
   "source": [
    "unique_strands = df[\"strand\"].unique().tolist()\n",
    "unique_strands"
   ]
  },
  {
   "cell_type": "code",
   "execution_count": 18,
   "id": "387ea0dd",
   "metadata": {},
   "outputs": [
    {
     "data": {
      "text/plain": [
       "{'Strand A': 1,\n",
       " 'Strand B': 2,\n",
       " 'Strand C': 3,\n",
       " 'Strand D': 4,\n",
       " 'Strand E': 5,\n",
       " 'Strand F': 6,\n",
       " 'Strand G': 7,\n",
       " 'Strand H': 8,\n",
       " 'Strand I': 9,\n",
       " 'Strand J': 10,\n",
       " 'Strand K': 11,\n",
       " 'Strand L': 12,\n",
       " 'Strand M': 13,\n",
       " 'Strand N': 14,\n",
       " 'Strand O': 15,\n",
       " 'Strand P': 16,\n",
       " 'Strand Q': 17,\n",
       " 'Strand R': 18,\n",
       " 'Strand S': 19,\n",
       " 'Strand T': 20,\n",
       " 'Strand U': 21,\n",
       " 'Strand V': 22,\n",
       " 'Strand W': 23,\n",
       " 'Strand X': 24,\n",
       " 'Strand Y': 25,\n",
       " 'Strand Z': 26}"
      ]
     },
     "metadata": {},
     "output_type": "display_data"
    },
    {
     "name": "stdout",
     "output_type": "stream",
     "text": [
      "✅ Inserted 26 strands in 0.00 seconds.\n"
     ]
    }
   ],
   "source": [
    "# --- Step 1: Insert Strands ---\n",
    "start_time = time.perf_counter()\n",
    "\n",
    "cur.executemany(\"INSERT INTO Strand (name) VALUES (?)\", [(s,) for s in unique_strands])\n",
    "\n",
    "strand_id_map = {\n",
    "    s: i for s, i in zip(unique_strands, range(1, len(unique_strands) + 1))\n",
    "}\n",
    "\n",
    "display(strand_id_map)\n",
    "\n",
    "elapsed = time.perf_counter() - start_time\n",
    "\n",
    "print(f\"✅ Inserted {len(unique_strands)} strands in {elapsed:.2f} seconds.\")\n",
    "\n"
   ]
  },
  {
   "cell_type": "markdown",
   "id": "8081c71a",
   "metadata": {},
   "source": [
    "## Insert Substrands"
   ]
  },
  {
   "cell_type": "code",
   "execution_count": 19,
   "id": "2a142bf2",
   "metadata": {},
   "outputs": [
    {
     "data": {
      "text/plain": [
       "[['Strand A', 'Sub Strand A'],\n",
       " ['Strand A', 'Sub Strand B'],\n",
       " ['Strand A', 'Sub Strand C'],\n",
       " ['Strand A', 'Sub Strand D'],\n",
       " ['Strand A', 'Sub Strand E'],\n",
       " ['Strand A', 'Sub Strand F'],\n",
       " ['Strand A', 'Sub Strand G'],\n",
       " ['Strand A', 'Sub Strand H'],\n",
       " ['Strand A', 'Sub Strand I'],\n",
       " ['Strand A', 'Sub Strand J'],\n",
       " ['Strand A', 'Sub Strand K'],\n",
       " ['Strand A', 'Sub Strand L'],\n",
       " ['Strand A', 'Sub Strand M'],\n",
       " ['Strand A', 'Sub Strand N'],\n",
       " ['Strand A', 'Sub Strand O'],\n",
       " ['Strand A', 'Sub Strand P'],\n",
       " ['Strand A', 'Sub Strand Q'],\n",
       " ['Strand A', 'Sub Strand R'],\n",
       " ['Strand A', 'Sub Strand S'],\n",
       " ['Strand A', 'Sub Strand T']]"
      ]
     },
     "execution_count": 19,
     "metadata": {},
     "output_type": "execute_result"
    }
   ],
   "source": [
    "unique_pairs = df[[\"strand\", \"substrand\"]].drop_duplicates().values.tolist()\n",
    "unique_pairs[:20]"
   ]
  },
  {
   "cell_type": "code",
   "execution_count": 20,
   "id": "74cc58aa",
   "metadata": {},
   "outputs": [
    {
     "data": {
      "text/plain": [
       "[(('Strand A', 'Sub Strand A'), 1),\n",
       " (('Strand A', 'Sub Strand B'), 2),\n",
       " (('Strand A', 'Sub Strand C'), 3),\n",
       " (('Strand A', 'Sub Strand D'), 4),\n",
       " (('Strand A', 'Sub Strand E'), 5),\n",
       " (('Strand A', 'Sub Strand F'), 6),\n",
       " (('Strand A', 'Sub Strand G'), 7),\n",
       " (('Strand A', 'Sub Strand H'), 8),\n",
       " (('Strand A', 'Sub Strand I'), 9),\n",
       " (('Strand A', 'Sub Strand J'), 10),\n",
       " (('Strand A', 'Sub Strand K'), 11),\n",
       " (('Strand A', 'Sub Strand L'), 12),\n",
       " (('Strand A', 'Sub Strand M'), 13),\n",
       " (('Strand A', 'Sub Strand N'), 14),\n",
       " (('Strand A', 'Sub Strand O'), 15),\n",
       " (('Strand A', 'Sub Strand P'), 16),\n",
       " (('Strand A', 'Sub Strand Q'), 17),\n",
       " (('Strand A', 'Sub Strand R'), 18),\n",
       " (('Strand A', 'Sub Strand S'), 19),\n",
       " (('Strand A', 'Sub Strand T'), 20)]"
      ]
     },
     "metadata": {},
     "output_type": "display_data"
    },
    {
     "name": "stdout",
     "output_type": "stream",
     "text": [
      "✅ Inserted 676 substrands in 0.01 seconds.\n"
     ]
    }
   ],
   "source": [
    "# --- Step 2: Insert Substrands ---\n",
    "start_time = time.perf_counter()\n",
    "\n",
    "cur.executemany(\n",
    "    \"INSERT INTO Substrand (strand_id, name) VALUES (?, ?)\",\n",
    "    [(strand_id_map[strand], substrand) for strand, substrand in unique_pairs],\n",
    ")\n",
    "\n",
    "substrand_id_map = {\n",
    "    (strand, substrand): i\n",
    "    for i, (strand, substrand) in enumerate(unique_pairs, start=1)\n",
    "}\n",
    "\n",
    "\n",
    "display(list(substrand_id_map.items())[:20])\n",
    "\n",
    "elapsed = time.perf_counter() - start_time\n",
    "\n",
    "print(f\"✅ Inserted {len(unique_pairs)} substrands in {elapsed:.2f} seconds.\")"
   ]
  },
  {
   "cell_type": "markdown",
   "id": "e84f1729",
   "metadata": {},
   "source": [
    "## Insert Activities"
   ]
  },
  {
   "cell_type": "code",
   "execution_count": 21,
   "id": "460d8fb4",
   "metadata": {},
   "outputs": [
    {
     "data": {
      "text/plain": [
       "[['Strand A', 'Sub Strand A', 'Activity #1'],\n",
       " ['Strand A', 'Sub Strand A', 'Activity #2'],\n",
       " ['Strand A', 'Sub Strand A', 'Activity #3'],\n",
       " ['Strand A', 'Sub Strand A', 'Activity #4'],\n",
       " ['Strand A', 'Sub Strand A', 'Activity #5'],\n",
       " ['Strand A', 'Sub Strand A', 'Activity #6'],\n",
       " ['Strand A', 'Sub Strand A', 'Activity #7'],\n",
       " ['Strand A', 'Sub Strand A', 'Activity #8'],\n",
       " ['Strand A', 'Sub Strand A', 'Activity #9'],\n",
       " ['Strand A', 'Sub Strand A', 'Activity #10'],\n",
       " ['Strand A', 'Sub Strand A', 'Activity #11'],\n",
       " ['Strand A', 'Sub Strand A', 'Activity #12'],\n",
       " ['Strand A', 'Sub Strand A', 'Activity #13'],\n",
       " ['Strand A', 'Sub Strand A', 'Activity #14'],\n",
       " ['Strand A', 'Sub Strand A', 'Activity #15'],\n",
       " ['Strand A', 'Sub Strand A', 'Activity #16'],\n",
       " ['Strand A', 'Sub Strand A', 'Activity #17'],\n",
       " ['Strand A', 'Sub Strand A', 'Activity #18'],\n",
       " ['Strand A', 'Sub Strand A', 'Activity #19'],\n",
       " ['Strand A', 'Sub Strand A', 'Activity #20']]"
      ]
     },
     "metadata": {},
     "output_type": "display_data"
    }
   ],
   "source": [
    "unique_triples = (\n",
    "    df[[\"strand\", \"substrand\", \"activity\"]].drop_duplicates().values.tolist()\n",
    ")\n",
    "display(unique_triples[:20])"
   ]
  },
  {
   "cell_type": "code",
   "execution_count": 22,
   "id": "687f8e1f",
   "metadata": {},
   "outputs": [
    {
     "name": "stdout",
     "output_type": "stream",
     "text": [
      "✅ Inserted 66924 activities in 0.20 seconds.\n"
     ]
    }
   ],
   "source": [
    "# --- Step 3: Insert Activities ---\n",
    "start_time = time.perf_counter()\n",
    "\n",
    "cur.executemany(\n",
    "    \"INSERT INTO Activity (substrand_id, name) VALUES (?, ?)\",\n",
    "    [\n",
    "        (substrand_id_map[(strand, substrand)], activity)\n",
    "        for strand, substrand, activity in unique_triples\n",
    "    ],\n",
    ")\n",
    "\n",
    "elapsed = time.perf_counter() - start_time\n",
    "\n",
    "print(f\"✅ Inserted {len(unique_triples)} activities in {elapsed:.2f} seconds.\")\n"
   ]
  },
  {
   "cell_type": "markdown",
   "id": "5eb9fe07",
   "metadata": {},
   "source": [
    "## Close Connection"
   ]
  },
  {
   "cell_type": "code",
   "execution_count": 23,
   "id": "f8fb4a55",
   "metadata": {},
   "outputs": [
    {
     "name": "stdout",
     "output_type": "stream",
     "text": [
      "\n",
      "🎉 Import complete!\n"
     ]
    }
   ],
   "source": [
    "# Commit\n",
    "conn.commit()\n",
    "conn.close()\n",
    "\n",
    "print(\"\\n🎉 Import complete!\")"
   ]
  }
 ],
 "metadata": {
  "kernelspec": {
   "display_name": "kicd_env",
   "language": "python",
   "name": "python3"
  },
  "language_info": {
   "codemirror_mode": {
    "name": "ipython",
    "version": 3
   },
   "file_extension": ".py",
   "mimetype": "text/x-python",
   "name": "python",
   "nbconvert_exporter": "python",
   "pygments_lexer": "ipython3",
   "version": "3.10.18"
  }
 },
 "nbformat": 4,
 "nbformat_minor": 5
}
